{
 "cells": [
  {
   "cell_type": "code",
   "execution_count": 46,
   "metadata": {},
   "outputs": [
    {
     "data": {
      "text/plain": [
       "[0, 0, 0, 0, 0, 0]"
      ]
     },
     "execution_count": 46,
     "metadata": {},
     "output_type": "execute_result"
    }
   ],
   "source": [
    "N = 5\n",
    "indegree = [0 for _ in range(N+1)] # [0] * (N + 1) \n",
    "indegree"
   ]
  },
  {
   "cell_type": "code",
   "execution_count": 47,
   "metadata": {},
   "outputs": [
    {
     "name": "stdout",
     "output_type": "stream",
     "text": [
      "['1', '고병학', '1']\n",
      "['2', '김근아', '0']\n",
      "['3', '김동주', '2']\n",
      "['4', '김소민', '1']\n",
      "['5', '김인제', '2']\n",
      "['6', '김재린', '2']\n",
      "['7', '김현지', '0']\n",
      "['8', '노수진', '0']\n",
      "['9', '명수진', '0']\n",
      "['10', '박나연', '0']\n",
      "['11', '박성빈', '2']\n",
      "['12', '손진용', '2']\n",
      "['13', '오혜진', '0']\n",
      "['14', '이성희', '2']\n",
      "['15', '유왕권', '0']\n",
      "['16', '유창우', '0']\n",
      "['17', '이경민', '1']\n",
      "['18', '이용석', '0']\n",
      "['19', '이은수', '0']\n",
      "['20', '이정환', '1']\n",
      "['21', '이주원', '1']\n",
      "['22', '이주희', '2']\n",
      "['23', '이찬규', '2']\n",
      "['24', '허용민', '2']\n",
      "['25', '홍승욱', '1']\n",
      "['26', '황정우', '2']\n",
      "['27', '황지환', '2']\n"
     ]
    }
   ],
   "source": [
    "import csv\n",
    "\n",
    "original = []\n",
    "\n",
    "f = open('./학생리스트.csv', mode='r', encoding='utf-8')\n",
    "reader = csv.reader(f, delimiter=',', )\n",
    "i = 0\n",
    "for line in reader:\n",
    "    if i == 0:\n",
    "        i += 1; continue\n",
    "\n",
    "    print(line)\n",
    "    original.append([line[0], line[1], line[2]])\n",
    "    i += 1\n",
    "f.close()"
   ]
  },
  {
   "cell_type": "code",
   "execution_count": 48,
   "metadata": {},
   "outputs": [],
   "source": [
    "leader_list = [] \n",
    "leader_list.append([None,None,None])\n",
    "student_list = []\n",
    "student_list.append([None,None,None])\n",
    "\n",
    "for item in original:\n",
    "    if item[2] in ['1']: # 전공자만\n",
    "        leader_list.append(item)\n",
    "    else:\n",
    "        student_list.append(item)"
   ]
  },
  {
   "cell_type": "code",
   "execution_count": 49,
   "metadata": {},
   "outputs": [
    {
     "data": {
      "text/plain": [
       "[[None, None, None],\n",
       " ['1', '고병학', '1'],\n",
       " ['4', '김소민', '1'],\n",
       " ['17', '이경민', '1'],\n",
       " ['20', '이정환', '1'],\n",
       " ['21', '이주원', '1'],\n",
       " ['25', '홍승욱', '1']]"
      ]
     },
     "execution_count": 49,
     "metadata": {},
     "output_type": "execute_result"
    }
   ],
   "source": [
    "leader_list"
   ]
  },
  {
   "cell_type": "code",
   "execution_count": 50,
   "metadata": {},
   "outputs": [
    {
     "data": {
      "text/plain": [
       "[[None, None, None],\n",
       " ['2', '김근아', '0'],\n",
       " ['3', '김동주', '2'],\n",
       " ['5', '김인제', '2'],\n",
       " ['6', '김재린', '2'],\n",
       " ['7', '김현지', '0'],\n",
       " ['8', '노수진', '0'],\n",
       " ['9', '명수진', '0'],\n",
       " ['10', '박나연', '0'],\n",
       " ['11', '박성빈', '2'],\n",
       " ['12', '손진용', '2'],\n",
       " ['13', '오혜진', '0'],\n",
       " ['14', '이성희', '2'],\n",
       " ['15', '유왕권', '0'],\n",
       " ['16', '유창우', '0'],\n",
       " ['18', '이용석', '0'],\n",
       " ['19', '이은수', '0'],\n",
       " ['22', '이주희', '2'],\n",
       " ['23', '이찬규', '2'],\n",
       " ['24', '허용민', '2'],\n",
       " ['26', '황정우', '2'],\n",
       " ['27', '황지환', '2']]"
      ]
     },
     "execution_count": 50,
     "metadata": {},
     "output_type": "execute_result"
    }
   ],
   "source": [
    "student_list"
   ]
  },
  {
   "cell_type": "code",
   "execution_count": 52,
   "metadata": {},
   "outputs": [],
   "source": [
    "## numbers 는 테스트\n",
    "numbers = [[] for _ in range(25+1)]\n",
    "for i in range(1, 25+1):\n",
    "    numbers[i] = [i, 1]"
   ]
  },
  {
   "cell_type": "code",
   "execution_count": null,
   "metadata": {},
   "outputs": [],
   "source": [
    "numbers"
   ]
  },
  {
   "cell_type": "code",
   "execution_count": 64,
   "metadata": {},
   "outputs": [
    {
     "name": "stdout",
     "output_type": "stream",
     "text": [
      "5조 ['21', '이주원', '1']\n",
      "4조 ['20', '이정환', '1']\n",
      "3조 ['17', '이경민', '1']\n",
      "2조 ['4', '김소민', '1']\n",
      "1조 ['1', '고병학', '1']\n"
     ]
    }
   ],
   "source": [
    "import random as rnd\n",
    "\n",
    "test = [i for i in range(1, 6)]\n",
    "team_leaders = []\n",
    "\n",
    "rnd.shuffle(test)\n",
    "\n",
    "for i in range(5):\n",
    "    print(f'{test[i]}조', leader_list[test[i]])\n"
   ]
  },
  {
   "cell_type": "code",
   "execution_count": null,
   "metadata": {},
   "outputs": [],
   "source": [
    "## leader_list에 있는 사람중 리더가 안된 사람은 다시 student_list로 이동..."
   ]
  },
  {
   "cell_type": "code",
   "execution_count": 111,
   "metadata": {},
   "outputs": [],
   "source": [
    "max_num = 22\n",
    "test2 = [i for i in range(1, max_num+1)]\n",
    "team_members = [[] for _ in range(5)]\n",
    "\n",
    "rnd.shuffle(test2)\n",
    "\n",
    "for i in range(5):\n",
    "    rnum = rnd.randint(4, 5)    \n",
    "    if i != 4: max_num = max_num - rnum\n",
    "    if i == 4: rnum = max_num\n",
    "    team_members[i].append(test2[i*rnum : (i+1)*rnum])"
   ]
  },
  {
   "cell_type": "code",
   "execution_count": 112,
   "metadata": {},
   "outputs": [
    {
     "name": "stdout",
     "output_type": "stream",
     "text": [
      "[[16, 1, 5, 6]]\n",
      "[[14, 18, 10, 12, 4]]\n",
      "[[12, 4, 7, 9]]\n",
      "[[15, 17, 2, 13, 3]]\n",
      "[[17, 2, 13, 3]]\n"
     ]
    }
   ],
   "source": [
    "for item in team_members:\n",
    "    print(item)"
   ]
  },
  {
   "cell_type": "code",
   "execution_count": 110,
   "metadata": {},
   "outputs": [
    {
     "name": "stdout",
     "output_type": "stream",
     "text": [
      "1조 ['11', '박성빈', '2'] ['2', '김근아', '0'] ['24', '허용민', '2'] ['13', '오혜진', '0'] ['23', '이찬규', '2']\n",
      "2조 ['23', '이찬규', '2'] ['5', '김인제', '2'] ['27', '황지환', '2'] ['18', '이용석', '0']\n",
      "3조 ['6', '김재린', '2'] ['22', '이주희', '2'] ['9', '명수진', '0'] ['16', '유창우', '0'] ['12', '손진용', '2']\n",
      "4조 ['9', '명수진', '0'] ['16', '유창우', '0'] ['12', '손진용', '2'] ['14', '이성희', '2']\n"
     ]
    },
    {
     "ename": "KeyboardInterrupt",
     "evalue": "",
     "output_type": "error",
     "traceback": [
      "\u001b[1;31m---------------------------------------------------------------------------\u001b[0m",
      "\u001b[1;31mKeyboardInterrupt\u001b[0m                         Traceback (most recent call last)",
      "Cell \u001b[1;32mIn[110], line 5\u001b[0m\n\u001b[0;32m      3\u001b[0m     \u001b[38;5;28mprint\u001b[39m(\u001b[38;5;124mf\u001b[39m\u001b[38;5;124m'\u001b[39m\u001b[38;5;132;01m{\u001b[39;00mi\u001b[38;5;241m+\u001b[39m\u001b[38;5;241m1\u001b[39m\u001b[38;5;132;01m}\u001b[39;00m\u001b[38;5;124m조\u001b[39m\u001b[38;5;124m'\u001b[39m,  student_list[item[\u001b[38;5;241m0\u001b[39m][\u001b[38;5;241m0\u001b[39m]], student_list[item[\u001b[38;5;241m0\u001b[39m][\u001b[38;5;241m1\u001b[39m]], student_list[item[\u001b[38;5;241m0\u001b[39m][\u001b[38;5;241m2\u001b[39m]])\n\u001b[0;32m      4\u001b[0m \u001b[38;5;28;01melif\u001b[39;00m (\u001b[38;5;28mlen\u001b[39m(item[\u001b[38;5;241m0\u001b[39m]) \u001b[38;5;241m==\u001b[39m \u001b[38;5;241m4\u001b[39m):\n\u001b[1;32m----> 5\u001b[0m     \u001b[38;5;28mprint\u001b[39m(\u001b[38;5;124mf\u001b[39m\u001b[38;5;124m'\u001b[39m\u001b[38;5;132;01m{\u001b[39;00mi\u001b[38;5;241m+\u001b[39m\u001b[38;5;241m1\u001b[39m\u001b[38;5;132;01m}\u001b[39;00m\u001b[38;5;124m조\u001b[39m\u001b[38;5;124m'\u001b[39m,  student_list[item[\u001b[38;5;241m0\u001b[39m][\u001b[38;5;241m0\u001b[39m]], student_list[item[\u001b[38;5;241m0\u001b[39m][\u001b[38;5;241m1\u001b[39m]], student_list[item[\u001b[38;5;241m0\u001b[39m][\u001b[38;5;241m2\u001b[39m]], \n\u001b[0;32m      6\u001b[0m                         student_list[item[\u001b[38;5;241m0\u001b[39m][\u001b[38;5;241m3\u001b[39m]])    \n\u001b[0;32m      7\u001b[0m \u001b[38;5;28;01melse\u001b[39;00m:\n\u001b[0;32m      8\u001b[0m     \u001b[38;5;28mprint\u001b[39m(\u001b[38;5;124mf\u001b[39m\u001b[38;5;124m'\u001b[39m\u001b[38;5;132;01m{\u001b[39;00mi\u001b[38;5;241m+\u001b[39m\u001b[38;5;241m1\u001b[39m\u001b[38;5;132;01m}\u001b[39;00m\u001b[38;5;124m조\u001b[39m\u001b[38;5;124m'\u001b[39m,  student_list[item[\u001b[38;5;241m0\u001b[39m][\u001b[38;5;241m0\u001b[39m]], student_list[item[\u001b[38;5;241m0\u001b[39m][\u001b[38;5;241m1\u001b[39m]], student_list[item[\u001b[38;5;241m0\u001b[39m][\u001b[38;5;241m2\u001b[39m]], \n\u001b[0;32m      9\u001b[0m                         student_list[item[\u001b[38;5;241m0\u001b[39m][\u001b[38;5;241m3\u001b[39m]], student_list[item[\u001b[38;5;241m0\u001b[39m][\u001b[38;5;241m4\u001b[39m]])\n",
      "Cell \u001b[1;32mIn[110], line 5\u001b[0m\n\u001b[0;32m      3\u001b[0m     \u001b[38;5;28mprint\u001b[39m(\u001b[38;5;124mf\u001b[39m\u001b[38;5;124m'\u001b[39m\u001b[38;5;132;01m{\u001b[39;00mi\u001b[38;5;241m+\u001b[39m\u001b[38;5;241m1\u001b[39m\u001b[38;5;132;01m}\u001b[39;00m\u001b[38;5;124m조\u001b[39m\u001b[38;5;124m'\u001b[39m,  student_list[item[\u001b[38;5;241m0\u001b[39m][\u001b[38;5;241m0\u001b[39m]], student_list[item[\u001b[38;5;241m0\u001b[39m][\u001b[38;5;241m1\u001b[39m]], student_list[item[\u001b[38;5;241m0\u001b[39m][\u001b[38;5;241m2\u001b[39m]])\n\u001b[0;32m      4\u001b[0m \u001b[38;5;28;01melif\u001b[39;00m (\u001b[38;5;28mlen\u001b[39m(item[\u001b[38;5;241m0\u001b[39m]) \u001b[38;5;241m==\u001b[39m \u001b[38;5;241m4\u001b[39m):\n\u001b[1;32m----> 5\u001b[0m     \u001b[38;5;28mprint\u001b[39m(\u001b[38;5;124mf\u001b[39m\u001b[38;5;124m'\u001b[39m\u001b[38;5;132;01m{\u001b[39;00mi\u001b[38;5;241m+\u001b[39m\u001b[38;5;241m1\u001b[39m\u001b[38;5;132;01m}\u001b[39;00m\u001b[38;5;124m조\u001b[39m\u001b[38;5;124m'\u001b[39m,  student_list[item[\u001b[38;5;241m0\u001b[39m][\u001b[38;5;241m0\u001b[39m]], student_list[item[\u001b[38;5;241m0\u001b[39m][\u001b[38;5;241m1\u001b[39m]], student_list[item[\u001b[38;5;241m0\u001b[39m][\u001b[38;5;241m2\u001b[39m]], \n\u001b[0;32m      6\u001b[0m                         student_list[item[\u001b[38;5;241m0\u001b[39m][\u001b[38;5;241m3\u001b[39m]])    \n\u001b[0;32m      7\u001b[0m \u001b[38;5;28;01melse\u001b[39;00m:\n\u001b[0;32m      8\u001b[0m     \u001b[38;5;28mprint\u001b[39m(\u001b[38;5;124mf\u001b[39m\u001b[38;5;124m'\u001b[39m\u001b[38;5;132;01m{\u001b[39;00mi\u001b[38;5;241m+\u001b[39m\u001b[38;5;241m1\u001b[39m\u001b[38;5;132;01m}\u001b[39;00m\u001b[38;5;124m조\u001b[39m\u001b[38;5;124m'\u001b[39m,  student_list[item[\u001b[38;5;241m0\u001b[39m][\u001b[38;5;241m0\u001b[39m]], student_list[item[\u001b[38;5;241m0\u001b[39m][\u001b[38;5;241m1\u001b[39m]], student_list[item[\u001b[38;5;241m0\u001b[39m][\u001b[38;5;241m2\u001b[39m]], \n\u001b[0;32m      9\u001b[0m                         student_list[item[\u001b[38;5;241m0\u001b[39m][\u001b[38;5;241m3\u001b[39m]], student_list[item[\u001b[38;5;241m0\u001b[39m][\u001b[38;5;241m4\u001b[39m]])\n",
      "File \u001b[1;32m_pydevd_bundle/pydevd_cython.pyx:1457\u001b[0m, in \u001b[0;36m_pydevd_bundle.pydevd_cython.SafeCallWrapper.__call__\u001b[1;34m()\u001b[0m\n",
      "File \u001b[1;32m_pydevd_bundle/pydevd_cython.pyx:701\u001b[0m, in \u001b[0;36m_pydevd_bundle.pydevd_cython.PyDBFrame.trace_dispatch\u001b[1;34m()\u001b[0m\n",
      "File \u001b[1;32m_pydevd_bundle/pydevd_cython.pyx:1395\u001b[0m, in \u001b[0;36m_pydevd_bundle.pydevd_cython.PyDBFrame.trace_dispatch\u001b[1;34m()\u001b[0m\n",
      "File \u001b[1;32m_pydevd_bundle/pydevd_cython.pyx:1344\u001b[0m, in \u001b[0;36m_pydevd_bundle.pydevd_cython.PyDBFrame.trace_dispatch\u001b[1;34m()\u001b[0m\n",
      "File \u001b[1;32m_pydevd_bundle/pydevd_cython.pyx:312\u001b[0m, in \u001b[0;36m_pydevd_bundle.pydevd_cython.PyDBFrame.do_wait_suspend\u001b[1;34m()\u001b[0m\n",
      "File \u001b[1;32m~\\AppData\\Roaming\\Python\\Python311\\site-packages\\debugpy\\_vendored\\pydevd\\pydevd.py:2070\u001b[0m, in \u001b[0;36mPyDB.do_wait_suspend\u001b[1;34m(self, thread, frame, event, arg, exception_type)\u001b[0m\n\u001b[0;32m   2067\u001b[0m             from_this_thread\u001b[38;5;241m.\u001b[39mappend(frame_custom_thread_id)\n\u001b[0;32m   2069\u001b[0m     \u001b[38;5;28;01mwith\u001b[39;00m \u001b[38;5;28mself\u001b[39m\u001b[38;5;241m.\u001b[39m_threads_suspended_single_notification\u001b[38;5;241m.\u001b[39mnotify_thread_suspended(thread_id, thread, stop_reason):\n\u001b[1;32m-> 2070\u001b[0m         keep_suspended \u001b[38;5;241m=\u001b[39m \u001b[38;5;28;43mself\u001b[39;49m\u001b[38;5;241;43m.\u001b[39;49m\u001b[43m_do_wait_suspend\u001b[49m\u001b[43m(\u001b[49m\u001b[43mthread\u001b[49m\u001b[43m,\u001b[49m\u001b[43m \u001b[49m\u001b[43mframe\u001b[49m\u001b[43m,\u001b[49m\u001b[43m \u001b[49m\u001b[43mevent\u001b[49m\u001b[43m,\u001b[49m\u001b[43m \u001b[49m\u001b[43marg\u001b[49m\u001b[43m,\u001b[49m\u001b[43m \u001b[49m\u001b[43msuspend_type\u001b[49m\u001b[43m,\u001b[49m\u001b[43m \u001b[49m\u001b[43mfrom_this_thread\u001b[49m\u001b[43m,\u001b[49m\u001b[43m \u001b[49m\u001b[43mframes_tracker\u001b[49m\u001b[43m)\u001b[49m\n\u001b[0;32m   2072\u001b[0m frames_list \u001b[38;5;241m=\u001b[39m \u001b[38;5;28;01mNone\u001b[39;00m\n\u001b[0;32m   2074\u001b[0m \u001b[38;5;28;01mif\u001b[39;00m keep_suspended:\n\u001b[0;32m   2075\u001b[0m     \u001b[38;5;66;03m# This means that we should pause again after a set next statement.\u001b[39;00m\n",
      "File \u001b[1;32m~\\AppData\\Roaming\\Python\\Python311\\site-packages\\debugpy\\_vendored\\pydevd\\pydevd.py:2106\u001b[0m, in \u001b[0;36mPyDB._do_wait_suspend\u001b[1;34m(self, thread, frame, event, arg, suspend_type, from_this_thread, frames_tracker)\u001b[0m\n\u001b[0;32m   2103\u001b[0m         \u001b[38;5;28mself\u001b[39m\u001b[38;5;241m.\u001b[39m_call_input_hook()\n\u001b[0;32m   2105\u001b[0m     \u001b[38;5;28mself\u001b[39m\u001b[38;5;241m.\u001b[39mprocess_internal_commands()\n\u001b[1;32m-> 2106\u001b[0m     time\u001b[38;5;241m.\u001b[39msleep(\u001b[38;5;241m0.01\u001b[39m)\n\u001b[0;32m   2108\u001b[0m \u001b[38;5;28mself\u001b[39m\u001b[38;5;241m.\u001b[39mcancel_async_evaluation(get_current_thread_id(thread), \u001b[38;5;28mstr\u001b[39m(\u001b[38;5;28mid\u001b[39m(frame)))\n\u001b[0;32m   2110\u001b[0m \u001b[38;5;66;03m# process any stepping instructions\u001b[39;00m\n",
      "\u001b[1;31mKeyboardInterrupt\u001b[0m: "
     ]
    }
   ],
   "source": [
    "for i, item in enumerate(team_members):\n",
    "    if (len(item[0]) == 3):\n",
    "        print(f'{i+1}조',  student_list[item[0][0]], student_list[item[0][1]], student_list[item[0][2]])\n",
    "    elif (len(item[0]) == 4):\n",
    "        print(f'{i+1}조',  student_list[item[0][0]], student_list[item[0][1]], student_list[item[0][2]], \n",
    "                            student_list[item[0][3]])    \n",
    "    else:\n",
    "        print(f'{i+1}조',  student_list[item[0][0]], student_list[item[0][1]], student_list[item[0][2]], \n",
    "                            student_list[item[0][3]], student_list[item[0][4]])"
   ]
  }
 ],
 "metadata": {
  "kernelspec": {
   "display_name": "Python 3",
   "language": "python",
   "name": "python3"
  },
  "language_info": {
   "codemirror_mode": {
    "name": "ipython",
    "version": 3
   },
   "file_extension": ".py",
   "mimetype": "text/x-python",
   "name": "python",
   "nbconvert_exporter": "python",
   "pygments_lexer": "ipython3",
   "version": "3.11.5"
  },
  "orig_nbformat": 4,
  "vscode": {
   "interpreter": {
    "hash": "a3d8f53f1429d27b792a3789224562ddd32c1395c9a9cfbb17b3c19c3b9a493d"
   }
  }
 },
 "nbformat": 4,
 "nbformat_minor": 2
}
